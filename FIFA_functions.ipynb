{
 "cells": [
  {
   "cell_type": "raw",
   "id": "9097c5d3",
   "metadata": {},
   "source": [
    "Draft: Potential Functions to process Sofifa data (20230808)"
   ]
  },
  {
   "cell_type": "code",
   "execution_count": null,
   "id": "e4f0d11a",
   "metadata": {},
   "outputs": [],
   "source": [
    "def sofifa_clean_df(df):\n",
    "    import math\n",
    "    import numpy as np\n",
    "    import pandas as pd\n",
    "       \n",
    "    def feet_to_cm(height_str):\n",
    "        feet, inches = map(int, height_str.replace('\\\"', '').split(\\\"'\\\"))\n",
    "        total_inches = (feet * 12) + inches\n",
    "        cm = total_inches * 2.54\n",
    "    return cm\n",
    "   \n",
    "   \n",
    "    def value_calc(value_str):\n",
    "        value = value_str.replace(\\\"€\\\",\\\"\\\")\n",
    "        if 'M' in value:\n",
    "            value = value.replace(\\\"M\\\",\\\"\\\")\n",
    "            value = pd.to_numeric(value, errors='coerce')\n",
    "            value = value * 1000000\n",
    "        elif 'K' in value:\n",
    "            value = value.replace(\\\"K\\\",\\\"\\\")\n",
    "            value = pd.to_numeric(value, errors='coerce')\n",
    "            value = value * 1000\n",
    "        else:\n",
    "            value = pd.to_numeric(value, errors='coerce')\n",
    "        return value\n",
    "    \n",
    "    df = df2.copy\n",
    "    df2['Height'] = df['Height'].apply(feet_to_cm)\n",
    "    df2['Weight']=df['Weight'].str.replace(\\\"lbs\\\",\\\"\\\")\n",
    "    df2['Weight']=pd.to_numeric(data2['Weight'], errors='coerce') \n",
    "    df2['Value'] = df['Value'].apply(value_calc)\n",
    "  \n",
    "    df2['W/F'] = df['W/F'].str.replace(\\\" ★\\\",\\\"\\\")\n",
    "    df2['W/F']=pd.to_numeric(data2['W/F'], errors='coerce')\n",
    "    df2['W/F']\\n\",\n",
    "    df2['SM'] = df['SM'].str.replace(\\\"★\\\",\\\"\\\")\n",
    "    df2['SM']=pd.to_numeric(data2['SM'], errors='coerce')\n",
    "    df2['IR'] = df['IR'].str.replace(\\\" ★\\\",\\\"\\\")\n",
    "    df2['IR']=pd.to_numeric(df['IR'], errors='coerce')\n",
    "    df2['IR']\n",
    "    \n",
    "    #fill NAN\n",
    "    df2['A/W'] = df['A/W'].fillna('Medium')\n",
    "    df2['D/W'] = df['D/W'].fillna('Medium')\n",
    "    return df2\n",
    "    \n",
    "    \n",
    "sofifa_clean_df()"
   ]
  },
  {
   "cell_type": "code",
   "execution_count": null,
   "id": "473d6b19",
   "metadata": {},
   "outputs": [],
   "source": [
    "# lm_model(df):\n",
    "#Categorical and numerical split\n",
    "\n",
    "def feature_target_split(df):\n",
    "    y = df[\"TARGET_D\"]\n",
    "    categorical = df.select_dtypes('object')\n",
    "    numerical = df._get_numeric_data().drop(['TARGET_D'], axis=1)\n",
    "    return y, categorical, numerical"
   ]
  },
  {
   "cell_type": "code",
   "execution_count": null,
   "id": "5500dc6d",
   "metadata": {},
   "outputs": [],
   "source": [
    "def num_scaling():\n",
    "    from sklearn.preprocessing import MinMaxScaler\n",
    "        transformer = MinMaxScaler().fit(numerical)\n",
    "        numerical_scaled = transformer.transform(numerical)\n",
    "        numerical_scaled = pd.DataFrame(numerical_scaled, columns=numerical.columns)\n",
    "        return numerical_scaled"
   ]
  },
  {
   "cell_type": "code",
   "execution_count": null,
   "id": "c27a5a0d",
   "metadata": {},
   "outputs": [],
   "source": [
    "def normalize_num():\n",
    "    import matplotlib.pyplot as plt\n",
    "    import seaborn as sns\n",
    "    sns.boxplot(numerical_scaled)\n",
    "    plt.xticks(rotation=90)\n",
    "    plt.show()\n",
    "    return\n",
    "    "
   ]
  },
  {
   "cell_type": "code",
   "execution_count": null,
   "id": "4d2e0280",
   "metadata": {},
   "outputs": [],
   "source": [
    "def encode_cat():\\n\",\n",
    "            from sklearn.preprocessing import OneHotEncoder\\n\",\n",
    "           # Create encoder to be used on new data later.\\n\",\n",
    "            encoder = OneHotEncoder(drop='first').fit(categorical)\\n\",\n",
    "            cols = encoder.get_feature_names_out(input_features=categorical.columns)\\n\",\n",
    "            categorical_encode = pd.DataFrame(encoder.transform(categorical).toarray(),columns=cols)\\n\",\n",
    "            categorical_encode.head()\\n\",\n",
    "            X = pd.concat([numerical_scaled, categorical_encode], axis=1)\\n\",\n",
    "        return y, X\n",
    "    "
   ]
  },
  {
   "cell_type": "raw",
   "id": "7c9e3ece",
   "metadata": {},
   "source": [
    "        feature_target_split()\n",
    "        num_scaling()\n",
    "        normalize_num()\n",
    "        encode_cat()"
   ]
  },
  {
   "cell_type": "raw",
   "id": "50efd931",
   "metadata": {},
   "source": [
    "def linear_modelling(X):\n",
    "    import seaborn as sns \n",
    "    from sklearn import linear_model \n",
    "    from sklearn.preprocessing import MinMaxScaler \n",
    "    from sklearn.preprocessing import StandardScaler\n",
    "    from sklearn.preprocessing import OneHotEncoder\n",
    "    from sklearn.preprocessing import LabelEncoder    \n",
    "    from sklearn.model_selection import train_test_split\n",
    "    from sklearn.metrics import r2_score\n",
    "    from sklearn.metrics import mean_squared_error\n",
    "    from sklearn.metrics import mean_absolute_error\n",
    "        \n",
    "    lm = linear_model.LinearRegression()\n",
    "    lm.fit(X,y)\n",
    "    print(\\\"b0 = \\\" , lm2.intercept_)\n",
    "    print(\\\"b1 = \\\" , lm2.coef_)\n",
    "    print('r2 is: ', lm.score(X,y)) \n",
    "    X_train, X_test, y_train, y_test = train_test_split(X, y, test_size=0.2, random_state=42        \n",
    "    print('X_train: ', X_train.shape)\n",
    "    print('X__test: ', X_test.shape)\n",
    "    print('y_train: ', y_train.shape)\n",
    "    print('y_test: ', y_test.shape)\n",
    "    \n",
    "   lm = linear_model.LinearRegression()\n",
    "   lm.fit(X_train,y_train)\n",
    "   predictions = lm.predict(X_train)\n",
    "   r2_score(y_train, predictions)\n",
    "\n",
    "   predictions_test = lm.predict(X_test)r2_score(y_test, predictions_test)\n",
    "\n",
    "\n",
    "    mse = mean_squared_error(y_test, predictions_test)\n",
    "    print('mse is: ', mse)\n",
    "    rmse = np.sqrt(mean_squared_error(y_test,predictions_test))\n",
    "    print('rmse is: ', rmse)\n",
    "    \n",
    "    mae = mean_absolute_error(y_test, predictions_test)\n",
    "    print('mae is: ', mae)\n",
    "    \n",
    "    \n",
    "    linear_modelling()"
   ]
  }
 ],
 "metadata": {
  "kernelspec": {
   "display_name": "Python 3 (ipykernel)",
   "language": "python",
   "name": "python3"
  },
  "language_info": {
   "codemirror_mode": {
    "name": "ipython",
    "version": 3
   },
   "file_extension": ".py",
   "mimetype": "text/x-python",
   "name": "python",
   "nbconvert_exporter": "python",
   "pygments_lexer": "ipython3",
   "version": "3.11.3"
  }
 },
 "nbformat": 4,
 "nbformat_minor": 5
}
